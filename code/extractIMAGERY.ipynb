{
 "cells": [
  {
   "attachments": {},
   "cell_type": "markdown",
   "metadata": {},
   "source": [
    "# Extract Detected Changes in Sentinel-1 Imagery\n",
    "\n",
    "Inspired by the following Google Earth Engine tutorials: \n",
    "- [Part 2 - Hypothesis testing](https://developers.google.com/earth-engine/tutorials/community/detecting-changes-in-sentinel-1-imagery-pt-2); and\n",
    "- [Part 3 - Multitemporal change detection](https://developers.google.com/earth-engine/tutorials/community/detecting-changes-in-sentinel-1-imagery-pt-3)"
   ]
  },
  {
   "attachments": {},
   "cell_type": "markdown",
   "metadata": {},
   "source": [
    "## Part 2 - Detecting Changes in Sentinel-1 Imagery"
   ]
  },
  {
   "cell_type": "code",
   "execution_count": 4,
   "metadata": {},
   "outputs": [
    {
     "data": {
      "text/html": [
       "<p>To authorize access needed by Earth Engine, open the following\n",
       "        URL in a web browser and follow the instructions:</p>\n",
       "        <p><a href=https://code.earthengine.google.com/client-auth?scopes=https%3A//www.googleapis.com/auth/earthengine%20https%3A//www.googleapis.com/auth/devstorage.full_control&request_id=1BGfTbaSL14n85tH5P5GWymcnwUKnKf26boiS4OMKkc&tc=HoZIfK0u7xOFt4kM21jn6NHT0WNYS7cDeYbknhQCJG4&cc=VX4SI-MLNLHSU_IR-29RIPdBqztDv38zYejMzjdK8OQ>https://code.earthengine.google.com/client-auth?scopes=https%3A//www.googleapis.com/auth/earthengine%20https%3A//www.googleapis.com/auth/devstorage.full_control&request_id=1BGfTbaSL14n85tH5P5GWymcnwUKnKf26boiS4OMKkc&tc=HoZIfK0u7xOFt4kM21jn6NHT0WNYS7cDeYbknhQCJG4&cc=VX4SI-MLNLHSU_IR-29RIPdBqztDv38zYejMzjdK8OQ</a></p>\n",
       "        <p>The authorization workflow will generate a code, which you should paste in the box below.</p>\n",
       "        "
      ],
      "text/plain": [
       "<IPython.core.display.HTML object>"
      ]
     },
     "metadata": {},
     "output_type": "display_data"
    },
    {
     "name": "stdout",
     "output_type": "stream",
     "text": [
      "\n",
      "Successfully saved authorization token.\n"
     ]
    }
   ],
   "source": [
    "# Run the following cell to initialize the API. The output will contain instructions on how to grant this notebook access to Earth Engine using your account.\n",
    "import ee\n",
    "\n",
    "# Trigger the authentication flow.\n",
    "ee.Authenticate()\n",
    "\n",
    "# Initialize the library.\n",
    "ee.Initialize()"
   ]
  },
  {
   "cell_type": "code",
   "execution_count": 51,
   "metadata": {},
   "outputs": [],
   "source": [
    "import matplotlib.pyplot as plt\n",
    "import numpy as np\n",
    "from scipy.stats import norm, gamma, f, chi2\n",
    "import IPython.display as disp\n",
    "import json\n",
    "%matplotlib inline"
   ]
  },
  {
   "cell_type": "code",
   "execution_count": 52,
   "metadata": {},
   "outputs": [],
   "source": [
    "#create function to download the image or imagecollection as you desire\n",
    "def downloader(ee_object,region): \n",
    "    try:\n",
    "        #download image\n",
    "        if isinstance(ee_object, ee.image.Image):\n",
    "            print('Its Image')\n",
    "            url = ee_object.getDownloadUrl({\n",
    "                    'scale': 10,\n",
    "                    'crs': 'EPSG:4326',\n",
    "                    'region': region\n",
    "                })\n",
    "            return url\n",
    "        \n",
    "        #download imagecollection\n",
    "        elif isinstance(ee_object, ee.imagecollection.ImageCollection):\n",
    "            print('Its ImageCollection')\n",
    "            ee_object_new = ee_object.mosaic()\n",
    "            url = ee_object_new.getDownloadUrl({\n",
    "                    'scale': 10,\n",
    "                    'crs': 'EPSG:4326',\n",
    "                    'region': region\n",
    "                })\n",
    "            return url\n",
    "    except:\n",
    "        print(\"Could not download\")"
   ]
  },
  {
   "cell_type": "code",
   "execution_count": null,
   "metadata": {},
   "outputs": [],
   "source": [
    "with open('C:\\\\Desktop\\\\AI4ER\\\\03 - MRes\\\\Easter 2023\\\\MRes Project\\\\ArcticCCAM\\\\data\\\\satellite_imagery\\\\S1_links.csv', 'w', encoding='UTF8') as d:\n",
    "writer.writerow(['filename', 'link'])\n",
    "    for x in \n",
    "\n",
    "        #data\n",
    "        with open('C:\\\\Desktop\\\\AI4ER\\\\03 - MRes\\\\Easter 2023\\\\MRes Project\\\\OneDrive - University of Cambridge\\\\geoJSON\\\\sample.json') as f:\n",
    "            geoJSON = json.load(f)\n",
    "            \n",
    "        coords = geoJSON['features'][0]['geometry']['coordinates']\n",
    "        aoi = ee.Geometry.Polygon(coords)\n",
    "        \n",
    "        im_coll = (ee.ImageCollection('COPERNICUS/S1_GRD_FLOAT')\n",
    "                    .filterBounds(aoi)\n",
    "                    .filterDate(ee.Date('2020-08-01'),ee.Date('2020-08-31'))\n",
    "                    .filter(ee.Filter.eq('orbitProperties_pass', 'ASCENDING'))\n",
    "                    .filter(ee.Filter.eq('relativeOrbitNumber_start', 15))\n",
    "                    .sort('system:time_start'))\n",
    "        \n",
    "        import time\n",
    "        acq_times = im_coll.aggregate_array('system:time_start').getInfo()\n",
    "        [time.strftime('%x', time.gmtime(acq_time/1000)) for acq_time in acq_times]\n",
    "        \n",
    "        im_list = im_coll.toList(im_coll.size())\n",
    "        im1 = ee.Image(im_list.get(0)).select('VV').clip(aoi)\n",
    "        im2 = ee.Image(im_list.get(1)).select('VV').clip(aoi)\n",
    "        ratio = im1.divide(im2)\n",
    "        m = 5\n",
    "        \n",
    "        # Decision threshold alpha/2:\n",
    "        dt = f.ppf(0.0005, 2*m, 2*m)\n",
    "\n",
    "        # LRT statistics.\n",
    "        q1 = im1.divide(im2)\n",
    "        q2 = im2.divide(im1)\n",
    "\n",
    "        # Change map with 0 = no change, 1 = decrease, 2 = increase in intensity.\n",
    "        c_map = im1.multiply(0).where(q2.lt(dt), 1)\n",
    "        c_map = c_map.where(q1.lt(dt), 2)\n",
    "\n",
    "        # Mask no-change pixels.\n",
    "        c_map = c_map.updateMask(c_map.gt(0))\n",
    "\n",
    "        region = aoi.toGeoJSONString()#region must in JSON format\n",
    "        path = downloader(c_map,region)#call function\n",
    "        print(path)#print the download URL\n",
    "        \n",
    "        writer.writerow([filename,path])"
   ]
  }
 ],
 "metadata": {
  "kernelspec": {
   "display_name": "base",
   "language": "python",
   "name": "python3"
  },
  "language_info": {
   "codemirror_mode": {
    "name": "ipython",
    "version": 3
   },
   "file_extension": ".py",
   "mimetype": "text/x-python",
   "name": "python",
   "nbconvert_exporter": "python",
   "pygments_lexer": "ipython3",
   "version": "3.9.16"
  },
  "orig_nbformat": 4
 },
 "nbformat": 4,
 "nbformat_minor": 2
}
